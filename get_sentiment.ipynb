{
 "cells": [
  {
   "cell_type": "code",
   "execution_count": null,
   "metadata": {},
   "outputs": [],
   "source": [
    "import re\n",
    "import pandas as pd\n",
    "from nltk.tokenize import RegexpTokenizer\n",
    "tokenizer = RegexpTokenizer(r'\\w+')\n",
    "from nltk.corpus import stopwords"
   ]
  },
  {
   "cell_type": "code",
   "execution_count": null,
   "metadata": {},
   "outputs": [],
   "source": [
    "def readCSV(filename):\n",
    "    \"\"\"\n",
    "    reads a csv file and returns a clean pandas dataframe\n",
    "    \"\"\"\n",
    "    df = pd.read_csv(filename, encoding='latin-1')\n",
    "    df2 = df.loc[df['newsType'] == 'topStory']\n",
    "    \n",
    "    def getCorrectDate(wrongdate):\n",
    "        wrongdate = str(wrongdate)\n",
    "        year, month, day = wrongdate[:4], wrongdate[4:6], wrongdate[6:]\n",
    "        return month + '/' + day + '/' + year\n",
    "\n",
    "    df2['date'] = df2['date'].apply(lambda x: getCorrectDate(x))\n",
    "    df2['date'] = pd.to_datetime(df2['date'])\n",
    "    \n",
    "    df2['text'] = df2['headline'] + df2['body']\n",
    "    \n",
    "    return df2"
   ]
  },
  {
   "cell_type": "code",
   "execution_count": null,
   "metadata": {},
   "outputs": [],
   "source": [
    "def cleanText(text):\n",
    "    \"\"\"\n",
    "    removes punctuation, stopwords and returns lowercase text in a list of single words\n",
    "    \"\"\"\n",
    "    text = text.lower()    \n",
    "    \n",
    "    text = tokenizer.tokenize(text)\n",
    "    \n",
    "    clean = [word for word in text if word not in stopwords.words('english')]\n",
    "    \n",
    "    return clean"
   ]
  },
  {
   "cell_type": "code",
   "execution_count": null,
   "metadata": {},
   "outputs": [],
   "source": [
    "def loadPositive():\n",
    "    \"\"\"\n",
    "    loading positive dictionary\n",
    "    \"\"\"\n",
    "    myfile = open('./preprocessing/LoughranMcDonald_Positive.txt', \"r\")\n",
    "    positives = myfile.readlines()\n",
    "    positive = [pos.strip().lower() for pos in positives]\n",
    "    return positive\n",
    "\n",
    "def loadNegative():\n",
    "    \"\"\"\n",
    "    loading positive dictionary\n",
    "    \"\"\"\n",
    "    myfile = open('./preprocessing/LoughranMcDonald_Negative.txt', \"r\")\n",
    "    negatives = myfile.readlines()\n",
    "    negative = [neg.strip().lower() for neg in negatives]\n",
    "    return negative"
   ]
  },
  {
   "cell_type": "code",
   "execution_count": null,
   "metadata": {},
   "outputs": [],
   "source": [
    "def countNeg(cleantext, negative):\n",
    "    \"\"\"\n",
    "    counts negative words in cleantext\n",
    "    \"\"\"\n",
    "    negs = [word for word in cleantext if word in negative]\n",
    "    return len(negs)\n",
    "\n",
    "def countPos(cleantext, positive):\n",
    "    \"\"\"\n",
    "    counts negative words in cleantext\n",
    "    \"\"\"\n",
    "    pos = [word for word in cleantext if word in positive]\n",
    "    return len(pos)"
   ]
  },
  {
   "cell_type": "code",
   "execution_count": null,
   "metadata": {},
   "outputs": [],
   "source": [
    "def getSentiment(cleantext, negative, positive):\n",
    "    \"\"\"\n",
    "    counts negative and positive words in cleantext and returns a score category accordingly\n",
    "    \"\"\"\n",
    "    positive = loadPositive()\n",
    "    negative = loadNegative()\n",
    "    sentiment = countPos(cleantext, positive) - countNeg(cleantext, negative)\n",
    "    if sentiment > 3:\n",
    "        return 4\n",
    "    elif sentiment > 0 and sentiment <=3:\n",
    "        return 3\n",
    "    elif sentiment < 0 and sentiment > -3:\n",
    "        return 2\n",
    "    elif sentiment <= -3:\n",
    "        return 1\n",
    "    else:\n",
    "        return 0"
   ]
  },
  {
   "cell_type": "code",
   "execution_count": null,
   "metadata": {},
   "outputs": [],
   "source": [
    "def updateSentimentDataFrame(df):\n",
    "    \"\"\"\n",
    "    performs sentiment analysis on single text entry of dataframe and returns dataframe with scores\n",
    "    \"\"\"\n",
    "    positive = loadPositive()\n",
    "    negative = loadNegative()   \n",
    "    \n",
    "    df['text'] = df['text'].apply(cleanText)\n",
    "    df['score'] = df['text'].apply(lambda x: getSentiment(x,negative, positive))\n",
    "    \n",
    "    return df"
   ]
  },
  {
   "cell_type": "code",
   "execution_count": null,
   "metadata": {},
   "outputs": [],
   "source": [
    "df = readCSV('./input/news_reuters.csv')\n",
    "print('Performing Sentiment...')\n",
    "updateSentimentDataFrame(df).to_csv('./preprocessing/sentiments.csv')"
   ]
  },
  {
   "cell_type": "code",
   "execution_count": null,
   "metadata": {},
   "outputs": [],
   "source": []
  }
 ],
 "metadata": {
  "kernelspec": {
   "display_name": "Python 3",
   "language": "python",
   "name": "python3"
  },
  "language_info": {
   "codemirror_mode": {
    "name": "ipython",
    "version": 3
   },
   "file_extension": ".py",
   "mimetype": "text/x-python",
   "name": "python",
   "nbconvert_exporter": "python",
   "pygments_lexer": "ipython3",
   "version": "3.7.0"
  }
 },
 "nbformat": 4,
 "nbformat_minor": 2
}
