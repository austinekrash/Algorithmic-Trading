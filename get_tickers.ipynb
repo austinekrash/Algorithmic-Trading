{
 "cells": [
  {
   "cell_type": "code",
   "execution_count": null,
   "metadata": {},
   "outputs": [],
   "source": [
    "import csv\n",
    "import sys\n",
    "\n",
    "from urllib.request import urlopen\n",
    "\n",
    "import numpy as np\n",
    "\n",
    "\n",
    "def get_tickers(percent):\n",
    "    \"\"\"Keep the top percent market-cap companies.\"\"\"\n",
    "    assert isinstance(percent, int)\n",
    "\n",
    "    file = open('./input/tickerList.csv', 'w')\n",
    "    writer = csv.writer(file, delimiter=',')\n",
    "    cap_stat, output = np.array([]), []\n",
    "    for exchange in [\"NASDAQ\", \"NYSE\", \"AMEX\"]:\n",
    "        url = \"http://www.nasdaq.com/screening/companies-by-industry.aspx?exchange=\"\n",
    "        repeat_times = 10 # repeat downloading in case of http error\n",
    "        for _ in range(repeat_times):\n",
    "            try:\n",
    "                print(\"Downloading tickers from {}...\".format(exchange))\n",
    "                response = urlopen(url + exchange + '&render=download')\n",
    "                content = response.read().decode('utf-8').split('\\n')\n",
    "                for num, line in enumerate(content):\n",
    "                    line = line.strip().strip('\"').split('\",\"')\n",
    "                    if num == 0 or len(line) != 9:\n",
    "                        continue # filter unmatched format\n",
    "                    # ticker, name, last_sale, market_cap, IPO_year, sector, industry\n",
    "                    ticker, name, _, market_cap, _, _, _ = line[0:4] + line[5:8]\n",
    "                    cap_stat = np.append(cap_stat, float(market_cap))\n",
    "                    output.append([ticker, name.replace(',', '').replace('.', ''),\n",
    "                                   exchange, market_cap])\n",
    "                break\n",
    "            except:\n",
    "                continue\n",
    "\n",
    "    for data in output:\n",
    "        market_cap = float(data[3])\n",
    "        if market_cap < np.percentile(cap_stat, 100 - percent):\n",
    "            continue\n",
    "        writer.writerow(data)\n",
    "\n",
    "\n",
    "def main():\n",
    "    top_n = 20\n",
    "    get_tickers(int(top_n)) # keep the top N% market-cap companies\n",
    "\n",
    "\n",
    "if __name__ == \"__main__\":\n",
    "    main()"
   ]
  },
  {
   "cell_type": "code",
   "execution_count": null,
   "metadata": {
    "collapsed": true
   },
   "outputs": [],
   "source": []
  }
 ],
 "metadata": {
  "kernelspec": {
   "display_name": "Python 3",
   "language": "python",
   "name": "python3"
  },
  "language_info": {
   "codemirror_mode": {
    "name": "ipython",
    "version": 3
   },
   "file_extension": ".py",
   "mimetype": "text/x-python",
   "name": "python",
   "nbconvert_exporter": "python",
   "pygments_lexer": "ipython3",
   "version": "3.7.0"
  }
 },
 "nbformat": 4,
 "nbformat_minor": 2
}
