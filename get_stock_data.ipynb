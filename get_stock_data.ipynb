{
 "cells": [
  {
   "cell_type": "code",
   "execution_count": null,
   "metadata": {},
   "outputs": [],
   "source": [
    "import pandas_datareader.data as pdr\n",
    "import fix_yahoo_finance as fix\n",
    "fix.pdr_override()\n",
    "\n",
    "\n",
    "class GetData:\n",
    "    def __init__(self, ticker, start, end):\n",
    "        self.ticker = ticker\n",
    "        self.start = start\n",
    "        self.end = end\n",
    "\n",
    "    # get stock data\n",
    "    def get_stock_data(self):\n",
    "        stock_data = pdr.get_data_yahoo(self.ticker, self.start, self.end)\n",
    "        stock_data.to_csv(\"stock_data_\" + self.ticker + \".csv\")\n",
    "\n",
    "\n",
    "if __name__ == \"__main__\":\n",
    "    data = GetData(\"AAPL\", \"2000-01-01\", \"2018-10-01\")\n",
    "    data.get_stock_data()"
   ]
  }
 ],
 "metadata": {
  "kernelspec": {
   "display_name": "Python 3",
   "language": "python",
   "name": "python3"
  },
  "language_info": {
   "codemirror_mode": {
    "name": "ipython",
    "version": 3
   },
   "file_extension": ".py",
   "mimetype": "text/x-python",
   "name": "python",
   "nbconvert_exporter": "python",
   "pygments_lexer": "ipython3",
   "version": "3.7.0"
  }
 },
 "nbformat": 4,
 "nbformat_minor": 2
}
